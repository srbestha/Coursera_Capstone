{
    "nbformat_minor": 1, 
    "cells": [
        {
            "source": "# Chicago Neighborhood and Venues Crime Analysis", 
            "cell_type": "markdown", 
            "metadata": {
                "collapsed": true
            }
        }, 
        {
            "source": "<img src = \"//upload.wikimedia.org/wikipedia/commons/thumb/5/5f/Chicago_from_North_Avenue_Beach_June_2015_panorama_2.jpg/1340px-Chicago_from_North_Avenue_Beach_June_2015_panorama_2.jpg\">", 
            "cell_type": "markdown", 
            "metadata": {}
        }, 
        {
            "source": "## 1. Introduction\n\n### Description\n\nChicago is also know as City of Chicago and is most populous city of Illinois and is third most populous city in the United States.With and estimated population of 2,716,450 for the year 2017.the city covers and area of 60,000 hectares .There are 77 geographical divisions in Chicago know as community areas with each area having its own neighborhoods in total 100 neighborhoods.\nChicago is an international hub for finance,culture,commerce,industry,technology,telecommunications and transportation.O'Hire is one of the busiest International airports in the world and the region also has largest number U.S highways and greatest amounts of railroad freights.The Chicago city has one of the highest Gross domestic products(GDP) in the world generating $680 billion in 2017.Chicago's 58 million domestic and international visitors in 2018 made it second most visited in the nation,behind New York city's approximate 65 million visitors . \n\n\n### Background\n \nCity of Chicago is a large scope for new establishments in various business areas such as Restaurants, Hotels,Residential,Cafe etc.\n\nFrom the Investor point of view, which is/are the best neighborhoods for the new establishments.One of the key factors that contribute most profitable that standout is Crime rates in addition to other factors such as visibility , parking , space , competitors , accessibility and Safety.Lesser the Crime rate in the neighborhood more people tend to visit the place.\n", 
            "cell_type": "markdown", 
            "metadata": {}
        }, 
        {
            "source": "## 2. Data Description\n\nConsidering the Problem background,Create Chicago Map with Crime rate index and clustering neighborhood venues.\n\n* City of Chicago maintains public data repository for Crime incident dataset \"Crimes - 2001 to present\".I used this dataset to create crime rates based on incident type and community area number.\n\n* Used wikipedia for Chicago Community area and its neighborhood list at \"https://en.wikipedia.org/wiki/Community_areas_in_Chicago\" to collect the data and applied Geopy Nominatim to get the Latitude and Longitude for each Community area.\n\n* Used Foursquare API for most common venues for each Community area neighborhoods.\n\n* Used GeoPandas and folium packages to use the Crime rate index on Map.\n", 
            "cell_type": "markdown", 
            "metadata": {}
        }, 
        {
            "execution_count": null, 
            "cell_type": "code", 
            "metadata": {}, 
            "outputs": [], 
            "source": ""
        }
    ], 
    "metadata": {
        "kernelspec": {
            "display_name": "Python 3.5", 
            "name": "python3", 
            "language": "python"
        }, 
        "language_info": {
            "mimetype": "text/x-python", 
            "nbconvert_exporter": "python", 
            "version": "3.5.5", 
            "name": "python", 
            "file_extension": ".py", 
            "pygments_lexer": "ipython3", 
            "codemirror_mode": {
                "version": 3, 
                "name": "ipython"
            }
        }
    }, 
    "nbformat": 4
}